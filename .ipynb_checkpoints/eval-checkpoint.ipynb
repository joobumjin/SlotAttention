{
 "cells": [
  {
   "cell_type": "markdown",
   "metadata": {
    "colab_type": "text",
    "id": "p9DgAr1jFJhp"
   },
   "source": [
    "Copyright 2020 The Google Research Authors. All Rights Reserved.\n",
    "Licensed under the Apache License, Version 2.0 (the \"License\"); you may not use this file except in compliance with the License. You may obtain a copy of the License at\n",
    "\n",
    "http://www.apache.org/licenses/LICENSE-2.0\n",
    "\n",
    "Unless required by applicable law or agreed to in writing, software distributed under the License is distributed on an \"AS IS\" BASIS, WITHOUT WARRANTIES OR CONDITIONS OF ANY KIND, either express or implied. See the License for the specific language governing permissions and limitations under the License."
   ]
  },
  {
   "cell_type": "markdown",
   "metadata": {
    "colab_type": "text",
    "id": "B-Wnu7pjFl-N"
   },
   "source": [
    "**NOTE: Executing the code (training or evaluation) for the first time will download the full CLEVR dataset (17.7GB).**"
   ]
  },
  {
   "cell_type": "code",
   "execution_count": 1,
   "metadata": {
    "colab": {},
    "colab_type": "code",
    "id": "T0AC86o61DIT"
   },
   "outputs": [],
   "source": [
    "# Requirements: Python 3.x, TensorFlow 2.x, TensorFlow Datasets\n",
    "\n",
    "from absl import logging\n",
    "import tensorflow as tf\n",
    "import tensorflow_datasets as tfds\n",
    "import matplotlib.pyplot as plt\n",
    "\n",
    "# When executing this notebook out of a subfolder, use the command below to\n",
    "# change to the project's root folder (required for imports):\n",
    "# %cd ..\n",
    "\n",
    "import slot_attention.data as data_utils\n",
    "import slot_attention.model as model_utils"
   ]
  },
  {
   "cell_type": "code",
   "execution_count": 2,
   "metadata": {
    "colab": {},
    "colab_type": "code",
    "id": "ES0x4gql8Mig"
   },
   "outputs": [],
   "source": [
    "# Hyperparameters.\n",
    "seed = 0\n",
    "batch_size = 1\n",
    "num_slots = 7\n",
    "num_iterations = 3\n",
    "resolution = (128, 128)\n",
    "ckpt_path = \"tmp/object_discovery\"  # Path to model checkpoint."
   ]
  },
  {
   "cell_type": "code",
   "execution_count": 3,
   "metadata": {
    "colab": {},
    "colab_type": "code",
    "id": "G60O3E3B_c-e"
   },
   "outputs": [],
   "source": [
    "def load_model(checkpoint_dir, num_slots=11, num_iters=3, batch_size=16):\n",
    "  resolution = (128, 128)\n",
    "  model = model_utils.build_model(\n",
    "      resolution, batch_size, num_slots, num_iters,\n",
    "      model_type=\"object_discovery\")\n",
    "\n",
    "  ckpt = tf.train.Checkpoint(network=model)\n",
    "  ckpt_manager = tf.train.CheckpointManager(\n",
    "      ckpt, directory=checkpoint_dir, max_to_keep=5)\n",
    "\n",
    "  if ckpt_manager.latest_checkpoint:\n",
    "    ckpt.restore(ckpt_manager.latest_checkpoint)\n",
    "    print(f\"Restored from {ckpt_manager.latest_checkpoint}\")\n",
    "    logging.info(\"Restored from %s\", ckpt_manager.latest_checkpoint)\n",
    "\n",
    "  return model"
   ]
  },
  {
   "cell_type": "code",
   "execution_count": 4,
   "metadata": {
    "colab": {},
    "colab_type": "code",
    "id": "XrWNKCSq59Qn"
   },
   "outputs": [
    {
     "name": "stdout",
     "output_type": "stream",
     "text": [
      "Metal device set to: Apple M1 Pro\n"
     ]
    },
    {
     "name": "stderr",
     "output_type": "stream",
     "text": [
      "2022-09-16 15:44:24.671102: I tensorflow/core/common_runtime/pluggable_device/pluggable_device_factory.cc:305] Could not identify NUMA node of platform GPU ID 0, defaulting to 0. Your kernel may not have been built with NUMA support.\n",
      "2022-09-16 15:44:24.671217: I tensorflow/core/common_runtime/pluggable_device/pluggable_device_factory.cc:271] Created TensorFlow device (/job:localhost/replica:0/task:0/device:GPU:0 with 0 MB memory) -> physical PluggableDevice (device: 0, name: METAL, pci bus id: <undefined>)\n",
      "2022-09-16 15:44:24.931914: W tensorflow/core/platform/profile_utils/cpu_utils.cc:128] Failed to get CPU frequency: 0 Hz\n"
     ]
    },
    {
     "ename": "NameError",
     "evalue": "name 'status' is not defined",
     "output_type": "error",
     "traceback": [
      "\u001b[0;31m---------------------------------------------------------------------------\u001b[0m",
      "\u001b[0;31mNameError\u001b[0m                                 Traceback (most recent call last)",
      "Input \u001b[0;32mIn [4]\u001b[0m, in \u001b[0;36m<module>\u001b[0;34m\u001b[0m\n\u001b[1;32m      2\u001b[0m tf\u001b[38;5;241m.\u001b[39mrandom\u001b[38;5;241m.\u001b[39mset_seed(seed)\n\u001b[1;32m      3\u001b[0m data_iterator \u001b[38;5;241m=\u001b[39m data_utils\u001b[38;5;241m.\u001b[39mbuild_clevr_iterator(\n\u001b[1;32m      4\u001b[0m     batch_size, split\u001b[38;5;241m=\u001b[39m\u001b[38;5;124m\"\u001b[39m\u001b[38;5;124mvalidation\u001b[39m\u001b[38;5;124m\"\u001b[39m, resolution\u001b[38;5;241m=\u001b[39mresolution, shuffle\u001b[38;5;241m=\u001b[39m\u001b[38;5;28;01mTrue\u001b[39;00m,\n\u001b[1;32m      5\u001b[0m     max_n_objects\u001b[38;5;241m=\u001b[39m\u001b[38;5;241m6\u001b[39m, get_properties\u001b[38;5;241m=\u001b[39m\u001b[38;5;28;01mFalse\u001b[39;00m, apply_crop\u001b[38;5;241m=\u001b[39m\u001b[38;5;28;01mTrue\u001b[39;00m)\n\u001b[0;32m----> 7\u001b[0m model \u001b[38;5;241m=\u001b[39m \u001b[43mload_model\u001b[49m\u001b[43m(\u001b[49m\u001b[43mckpt_path\u001b[49m\u001b[43m,\u001b[49m\u001b[43m \u001b[49m\u001b[43mnum_slots\u001b[49m\u001b[38;5;241;43m=\u001b[39;49m\u001b[43mnum_slots\u001b[49m\u001b[43m,\u001b[49m\u001b[43m \u001b[49m\u001b[43mnum_iters\u001b[49m\u001b[38;5;241;43m=\u001b[39;49m\u001b[43mnum_iterations\u001b[49m\u001b[43m,\u001b[49m\n\u001b[1;32m      8\u001b[0m \u001b[43m                   \u001b[49m\u001b[43mbatch_size\u001b[49m\u001b[38;5;241;43m=\u001b[39;49m\u001b[43mbatch_size\u001b[49m\u001b[43m)\u001b[49m\n",
      "Input \u001b[0;32mIn [3]\u001b[0m, in \u001b[0;36mload_model\u001b[0;34m(checkpoint_dir, num_slots, num_iters, batch_size)\u001b[0m\n\u001b[1;32m      8\u001b[0m ckpt_manager \u001b[38;5;241m=\u001b[39m tf\u001b[38;5;241m.\u001b[39mtrain\u001b[38;5;241m.\u001b[39mCheckpointManager(\n\u001b[1;32m      9\u001b[0m     ckpt, directory\u001b[38;5;241m=\u001b[39mcheckpoint_dir, max_to_keep\u001b[38;5;241m=\u001b[39m\u001b[38;5;241m5\u001b[39m)\n\u001b[1;32m     11\u001b[0m \u001b[38;5;28;01mif\u001b[39;00m ckpt_manager\u001b[38;5;241m.\u001b[39mlatest_checkpoint:\n\u001b[0;32m---> 12\u001b[0m   \u001b[43mstatus\u001b[49m\u001b[38;5;241m.\u001b[39mexpect_partial()\n\u001b[1;32m     13\u001b[0m   ckpt\u001b[38;5;241m.\u001b[39mrestore(ckpt_manager\u001b[38;5;241m.\u001b[39mlatest_checkpoint)\n\u001b[1;32m     14\u001b[0m   \u001b[38;5;28mprint\u001b[39m(\u001b[38;5;124mf\u001b[39m\u001b[38;5;124m\"\u001b[39m\u001b[38;5;124mRestored from \u001b[39m\u001b[38;5;132;01m{\u001b[39;00mckpt_manager\u001b[38;5;241m.\u001b[39mlatest_checkpoint\u001b[38;5;132;01m}\u001b[39;00m\u001b[38;5;124m\"\u001b[39m)\n",
      "\u001b[0;31mNameError\u001b[0m: name 'status' is not defined"
     ]
    }
   ],
   "source": [
    "# Build dataset iterators, optimizers and model.\n",
    "tf.random.set_seed(seed)\n",
    "data_iterator = data_utils.build_clevr_iterator(\n",
    "    batch_size, split=\"validation\", resolution=resolution, shuffle=True,\n",
    "    max_n_objects=6, get_properties=False, apply_crop=True)\n",
    "\n",
    "model = load_model(ckpt_path, num_slots=num_slots, num_iters=num_iterations,\n",
    "                   batch_size=batch_size)"
   ]
  },
  {
   "cell_type": "code",
   "execution_count": null,
   "metadata": {
    "colab": {},
    "colab_type": "code",
    "id": "mcqHuS9pjvzY"
   },
   "outputs": [],
   "source": [
    "def renormalize(x):\n",
    "  \"\"\"Renormalize from [-1, 1] to [0, 1].\"\"\"\n",
    "  return x / 2. + 0.5\n",
    "\n",
    "def get_prediction(model, batch, idx=0):\n",
    "  recon_combined, recons, masks, slots = model(batch[\"image\"])\n",
    "  image = renormalize(batch[\"image\"])[idx]\n",
    "  recon_combined = renormalize(recon_combined)[idx]\n",
    "  recons = renormalize(recons)[idx]\n",
    "  masks = masks[idx]\n",
    "  return image, recon_combined, recons, masks, slots"
   ]
  },
  {
   "cell_type": "code",
   "execution_count": null,
   "metadata": {
    "colab": {},
    "colab_type": "code",
    "id": "Bddz5KwJIRac"
   },
   "outputs": [],
   "source": [
    "# Get new batch.\n",
    "batch = next(data_iterator)"
   ]
  },
  {
   "cell_type": "code",
   "execution_count": null,
   "metadata": {
    "colab": {},
    "colab_type": "code",
    "id": "vLKytvW0mrbz"
   },
   "outputs": [],
   "source": [
    "# Predict.\n",
    "image, recon_combined, recons, masks, slots = get_prediction(model, batch)"
   ]
  },
  {
   "cell_type": "code",
   "execution_count": null,
   "metadata": {
    "colab": {
     "height": 143
    },
    "colab_type": "code",
    "id": "Lcsylkf_3FQM",
    "outputId": "f196c2fe-3e1d-4165-c5a0-35d2947430f8"
   },
   "outputs": [],
   "source": [
    "# Visualize.\n",
    "num_slots = len(masks)\n",
    "fig, ax = plt.subplots(1, num_slots + 2, figsize=(15, 2))\n",
    "ax[0].imshow(image)\n",
    "ax[0].set_title('Image')\n",
    "ax[1].imshow(recon_combined)\n",
    "ax[1].set_title('Recon.')\n",
    "for i in range(num_slots):\n",
    "  ax[i + 2].imshow(recons[i] * masks[i] + (1 - masks[i]))\n",
    "  ax[i + 2].set_title('Slot %s' % str(i + 1))\n",
    "for i in range(len(ax)):\n",
    "  ax[i].grid(False)\n",
    "  ax[i].axis('off')"
   ]
  },
  {
   "cell_type": "code",
   "execution_count": null,
   "metadata": {},
   "outputs": [],
   "source": [
    "plt.imshow(masks[3])"
   ]
  }
 ],
 "metadata": {
  "colab": {
   "collapsed_sections": [],
   "name": "eval.ipynb",
   "provenance": []
  },
  "kernelspec": {
   "display_name": "Python 3 (ipykernel)",
   "language": "python",
   "name": "python3"
  },
  "language_info": {
   "codemirror_mode": {
    "name": "ipython",
    "version": 3
   },
   "file_extension": ".py",
   "mimetype": "text/x-python",
   "name": "python",
   "nbconvert_exporter": "python",
   "pygments_lexer": "ipython3",
   "version": "3.9.10"
  }
 },
 "nbformat": 4,
 "nbformat_minor": 1
}
