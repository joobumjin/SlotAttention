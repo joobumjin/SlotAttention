{
 "cells": [
  {
   "cell_type": "code",
   "execution_count": 1,
   "metadata": {
    "colab": {},
    "colab_type": "code",
    "id": "T0AC86o61DIT"
   },
   "outputs": [],
   "source": [
    "# Requirements: Python 3.x, TensorFlow 2.x\n",
    "\n",
    "from absl import logging\n",
    "import tensorflow as tf\n",
    "import matplotlib.pyplot as plt\n",
    "\n",
    "# When executing this notebook out of a subfolder, use the command below to\n",
    "# change to the project's root folder (required for imports):\n",
    "# %cd ..\n",
    "\n",
    "from tqdm import tqdm\n",
    "from itertools import cycle\n",
    "from model import build_model"
   ]
  },
  {
   "cell_type": "code",
   "execution_count": 61,
   "metadata": {
    "colab": {},
    "colab_type": "code",
    "id": "ES0x4gql8Mig"
   },
   "outputs": [],
   "source": [
    "# Hyperparameters.\n",
    "batch_size = 8\n",
    "num_slots = 7\n",
    "num_iterations = 3\n",
    "ckpt_path = \"training\"  # Path to model checkpoint."
   ]
  },
  {
   "cell_type": "code",
   "execution_count": 62,
   "metadata": {
    "colab": {},
    "colab_type": "code",
    "id": "G60O3E3B_c-e"
   },
   "outputs": [],
   "source": [
    "def load_model(checkpoint_dir, num_slots=7, num_iterations=5, batch_size=8):\n",
    "    resolution = (256,256)\n",
    "    model = build_model(resolution, batch_size, num_slots, num_iterations)\n",
    "\n",
    "    ckpt = tf.train.Checkpoint(network=model)\n",
    "    ckpt_manager = tf.train.CheckpointManager(ckpt, directory=checkpoint_dir, max_to_keep=5)\n",
    "\n",
    "    if ckpt_manager.latest_checkpoint:\n",
    "        status = ckpt.restore(ckpt_manager.latest_checkpoint)\n",
    "        status.expect_partial()\n",
    "        print(f\"Restored from {ckpt_manager.latest_checkpoint}\")\n",
    "        logging.info(\"Restored from %s\", ckpt_manager.latest_checkpoint)\n",
    "\n",
    "    return model"
   ]
  },
  {
   "cell_type": "code",
   "execution_count": null,
   "metadata": {
    "colab": {},
    "colab_type": "code",
    "id": "XrWNKCSq59Qn",
    "scrolled": true
   },
   "outputs": [
    {
     "name": "stderr",
     "output_type": "stream",
     "text": [
      "loading data:  19%|██████████████████████████████████▊                                                                                                                                                       | 9247/49325 [01:12<05:23, 123.87it/s]"
     ]
    }
   ],
   "source": [
    "# Build dataset iterators, optimizers and model.\n",
    "from data_utils import allen_cell_dataset\n",
    "\n",
    "train_iterator, test_iterator, val_iterator = allen_cell_dataset(False, batch_size)\n",
    "train_iterator = cycle(list(train_iterator))\n",
    "test_iterator = cycle(list(test_iterator))\n",
    "val_iterator = cycle(list(val_iterator))"
   ]
  },
  {
   "cell_type": "code",
   "execution_count": null,
   "metadata": {},
   "outputs": [],
   "source": [
    "model = load_model(ckpt_path)"
   ]
  },
  {
   "cell_type": "code",
   "execution_count": null,
   "metadata": {
    "colab": {},
    "colab_type": "code",
    "id": "mcqHuS9pjvzY"
   },
   "outputs": [],
   "source": [
    "def renormalize(x):\n",
    "  \"\"\"Renormalize from [0.0, 255.0] to [0.0, 1.0].\"\"\"\n",
    "  return x / 255\n",
    "\n",
    "def get_prediction(model, batch, idx=0):\n",
    "  recon_combined, recons, masks, slots = model(batch)\n",
    "  image = renormalize(batch)[idx]\n",
    "  recon_combined = recon_combined[idx]\n",
    "  recons = recons[idx]\n",
    "  masks = masks[idx]\n",
    "  return image, recon_combined, recons, masks, slots"
   ]
  },
  {
   "cell_type": "code",
   "execution_count": null,
   "metadata": {
    "colab": {},
    "colab_type": "code",
    "id": "Bddz5KwJIRac"
   },
   "outputs": [],
   "source": [
    "# Get new batch.\n",
    "batch = next(val_iterator)"
   ]
  },
  {
   "cell_type": "code",
   "execution_count": null,
   "metadata": {
    "colab": {},
    "colab_type": "code",
    "id": "vLKytvW0mrbz"
   },
   "outputs": [],
   "source": [
    "# Predict.\n",
    "image, recon_combined, recons, masks, slots = get_prediction(model, batch)"
   ]
  },
  {
   "cell_type": "code",
   "execution_count": null,
   "metadata": {},
   "outputs": [],
   "source": [
    "plt.imshow(image)"
   ]
  },
  {
   "cell_type": "code",
   "execution_count": null,
   "metadata": {
    "colab": {
     "height": 143
    },
    "colab_type": "code",
    "id": "Lcsylkf_3FQM",
    "outputId": "f196c2fe-3e1d-4165-c5a0-35d2947430f8"
   },
   "outputs": [],
   "source": [
    "# Visualize.\n",
    "num_slots = len(masks)\n",
    "fig, ax = plt.subplots(1, num_slots + 2, figsize=(15, 2))\n",
    "ax[0].imshow(image)\n",
    "ax[0].set_title('Image')\n",
    "ax[1].imshow(recon_combined)\n",
    "ax[1].set_title('Recon.')\n",
    "for i in range(num_slots):\n",
    "  #ax[i + 2].imshow(recons[i] * masks[i] + (1 - masks[i]))\n",
    "  ax[i + 2].imshow(tf.zeros(recons[i].shape))\n",
    "  ax[i + 2].set_title('Slot %s' % str(i + 1))\n",
    "for i in range(len(ax)):\n",
    "  ax[i].grid(False)\n",
    "  ax[i].axis('off')"
   ]
  },
  {
   "cell_type": "code",
   "execution_count": null,
   "metadata": {},
   "outputs": [],
   "source": [
    "plt.imshow(image)"
   ]
  }
 ],
 "metadata": {
  "colab": {
   "collapsed_sections": [],
   "name": "eval.ipynb",
   "provenance": []
  },
  "kernelspec": {
   "display_name": "Python 3.9 (SlotAttention)",
   "language": "python",
   "name": "slotattention"
  },
  "language_info": {
   "codemirror_mode": {
    "name": "ipython",
    "version": 3
   },
   "file_extension": ".py",
   "mimetype": "text/x-python",
   "name": "python",
   "nbconvert_exporter": "python",
   "pygments_lexer": "ipython3",
   "version": "3.9.13"
  }
 },
 "nbformat": 4,
 "nbformat_minor": 1
}
